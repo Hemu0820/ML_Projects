{
 "cells": [
  {
   "cell_type": "markdown",
   "metadata": {},
   "source": [
    "# Introduction to Machine Learning: Programming Assignment 3\n",
    "\n",
    "This programming assignment has two parts.\n",
    "\n",
    "In the first part, you will implement a Naïve Bayes Classifier and test it on a publicly available data set. \n",
    "\n",
    "In the second part, you will manipulate the data characteristics to understand how classifiers get impacted by the underlying bias in the training data. Focus will be on developing a COMPAS style risk assessment system.\n"
   ]
  },
  {
   "cell_type": "markdown",
   "metadata": {},
   "source": [
    "## TASK 1: Naïve Bayes Classifier\n",
    "In machine learning, Naïve Bayes classification is a straightforward and powerful algorithm for the classification task. Naïve Bayes classification is based on applying Bayes’ theorem with strong independence assumption between the features. Naïve Bayes classification produces good results when we use it for textual data analysis such as Natural Language Processing."
   ]
  },
  {
   "cell_type": "markdown",
   "metadata": {},
   "source": [
    "There are 3 types of Naïve Bayes algorithm:\n",
    "\n",
    "1. Gaussian Naïve Bayes\n",
    "\n",
    "2. Multinomial Naïve Bayes\n",
    "\n",
    "3. Bernoulli Naïve Bayes\n",
    "\n",
    "In this lab, we will fouse on the Gaussian Naïve Bayes algorithm.\n",
    "\n"
   ]
  },
  {
   "cell_type": "code",
   "execution_count": 1,
   "metadata": {},
   "outputs": [],
   "source": [
    "# Load helpful packages\n",
    "import numpy as np\n",
    "import pandas as pd\n",
    "import matplotlib.pyplot as plt"
   ]
  },
  {
   "cell_type": "markdown",
   "metadata": {},
   "source": [
    "We will use the ```Iris``` dataset for our experiments.\n",
    "\n",
    "The Iris dataset is a classic in the field of machine learning. It contains 150 samples of iris flowers, each described by four features: sepal length, sepal width, petal length, and petal width. There are three species of iris in the dataset, making it a multi-class classification problem."
   ]
  },
  {
   "cell_type": "code",
   "execution_count": 2,
   "metadata": {},
   "outputs": [],
   "source": [
    "# Load the data\n",
    "# load the iris dataset\n",
    "from sklearn.datasets import load_iris\n",
    "iris = load_iris()"
   ]
  },
  {
   "cell_type": "markdown",
   "metadata": {},
   "source": [
    "### Task 1.1 View the dataset.\n",
    "1. Write code to print out the feature and species categories with their names. ```Hint: check the keys of the dataset```\n",
    "2. Plot the distribution for all the categories"
   ]
  },
  {
   "cell_type": "code",
   "execution_count": 3,
   "metadata": {},
   "outputs": [
    {
     "data": {
      "text/plain": [
       "dict_keys(['data', 'target', 'frame', 'target_names', 'DESCR', 'feature_names', 'filename', 'data_module'])"
      ]
     },
     "execution_count": 3,
     "metadata": {},
     "output_type": "execute_result"
    }
   ],
   "source": [
    "# check the type of iris\n",
    "iris.keys()"
   ]
  },
  {
   "cell_type": "code",
   "execution_count": 4,
   "metadata": {},
   "outputs": [
    {
     "name": "stdout",
     "output_type": "stream",
     "text": [
      "Feature names: ['sepal length (cm)', 'sepal width (cm)', 'petal length (cm)', 'petal width (cm)']\n",
      "Species (Target) names: ['setosa' 'versicolor' 'virginica']\n"
     ]
    }
   ],
   "source": [
    "# Print the features and species (target) names\n",
    "\n",
    "#<-- write your code here-->\n",
    "print(\"Feature names:\", iris.feature_names)\n",
    "print(\"Species (Target) names:\", iris.target_names)"
   ]
  },
  {
   "cell_type": "code",
   "execution_count": 5,
   "metadata": {},
   "outputs": [
    {
     "data": {
      "image/png": "[encoded data removed]",
      "text/plain": [
       "<Figure size 500x200 with 1 Axes>"
      ]
     },
     "metadata": {},
     "output_type": "display_data"
    }
   ],
   "source": [
    "# Plot the distribution of the species (target) variable\n",
    "\n",
    "plt.figure(figsize=(5, 2))\n",
    "species_counts = np.bincount(iris.target)\n",
    "species_names = iris.target_names\n",
    "plt.bar(species_names, species_counts, color='skyblue')\n",
    "\n",
    "plt.xlabel('Species')\n",
    "plt.ylabel('Count')\n",
    "plt.title('Distribution of Species')\n",
    "plt.show()\n",
    "\n",
    "#<-- write your code here-->\n",
    "\n"
   ]
  },
  {
   "cell_type": "markdown",
   "metadata": {},
   "source": [
    "### Task 1.2: Data Preparing. \n",
    "1. Please finish the following code to split the Iris dataset into training and testing dataset with a distribution of 80:20.\n",
    "2. Print out the shape of each split subset."
   ]
  },
  {
   "cell_type": "code",
   "execution_count": 6,
   "metadata": {},
   "outputs": [],
   "source": [
    "from sklearn.model_selection import train_test_split\n",
    "\n",
    "# store the feature matrix (X) and target vector (y)\n",
    "X = iris.data\n",
    "y = iris.target"
   ]
  },
  {
   "cell_type": "code",
   "execution_count": 7,
   "metadata": {},
   "outputs": [],
   "source": [
    "# Split the data into training and test sets\n",
    "\n",
    "#<-- write your code here-->\n",
    "X_train, X_test, y_train, y_test = train_test_split(X, y, test_size=0.20, random_state=42)\n"
   ]
  },
  {
   "cell_type": "code",
   "execution_count": 8,
   "metadata": {},
   "outputs": [
    {
     "name": "stdout",
     "output_type": "stream",
     "text": [
      "Shape of X_train: (120, 4)\n",
      "Shape of X_test: (30, 4)\n",
      "Shape of y_train: (120,)\n",
      "Shape of y_test: (30,)\n"
     ]
    }
   ],
   "source": [
    "# Print the shapes of your training and test sets\n",
    "\n",
    "#<-- write your code here-->\n",
    "print(\"Shape of X_train:\", X_train.shape)\n",
    "print(\"Shape of X_test:\", X_test.shape)\n",
    "print(\"Shape of y_train:\", y_train.shape)\n",
    "print(\"Shape of y_test:\", y_test.shape)\n"
   ]
  },
  {
   "cell_type": "markdown",
   "metadata": {},
   "source": [
    "### Task 1.3 Build a Gaussian Naïve Bayes algorithm. \n",
    "- Step 1: **Calculate prior probabilities.** The prior probability of each class P(y) is the frequency of each class in the training set divided by the total number of samples.\n",
    "- Step 2: **Calculate Mean and Variance for each feature per class.** For each class, calculate the mean and variance of each feature. These statistics are used to model the Gaussian distribution of each feature.\n",
    "- Step 3: **Calculate likelihood for each class.**\n",
    "- Step 4: **Compute the posterior probability.**"
   ]
  },
  {
   "cell_type": "code",
   "execution_count": 9,
   "metadata": {},
   "outputs": [],
   "source": [
    "# Build a Guassian Naive Bayes model\n",
    "class GaussianNaiveBayes:\n",
    "    # Initialize the model\n",
    "    def __init__(self):\n",
    "        self.classes = None\n",
    "        self.prior_prob = None\n",
    "        self.mean = None\n",
    "        self.var = None\n",
    "        self.likelihood = None\n",
    "\n",
    "    # Fit the model\n",
    "    def fit(self, X, y):        \n",
    "        self.classes = np.unique(y) # Get the unique classes\n",
    "        self.prior_prob = np.zeros(len(self.classes)) # Initialize the prior probability\n",
    "        self.mean = np.zeros((len(self.classes), X.shape[1])) # Initialize the mean\n",
    "        self.var = np.zeros((len(self.classes), X.shape[1])) # Initialize the variance\n",
    "\n",
    "        # Compute the prior probability, mean and variance for each class (ask for students)\n",
    "        for i, c in enumerate(self.classes): \n",
    "            X_c = X[y == c]\n",
    "            self.prior_prob[i] = X_c.shape[0] / X.shape[0]\n",
    "            self.mean[i, :] = X_c.mean(axis=0)\n",
    "            self.var[i, :] = X_c.var(axis=0)\n",
    "\n",
    "    # Predict the class\n",
    "    def predict(self, X):\n",
    "        # Initialize the likelihood\n",
    "        self.likelihood = np.zeros((X.shape[0], len(self.classes))) \n",
    "        # Compute the likelihood for each class\n",
    "        for i, c in enumerate(self.classes):\n",
    "            self.likelihood[:, i] = self.gaussian_pdf(X, self.mean[i], self.var[i]).prod(axis=1)\n",
    "\n",
    "            #<-- write your code here-->\n",
    "\n",
    "        # Compute the posterior probability with eqution: posterior_prob = likehood * prior_prob\n",
    "\n",
    "        #<-- write your code here-->\n",
    "        posterior_prob = self.likelihood * self.prior_prob\n",
    "        \n",
    "        # Return the class with the highest posterior probability\n",
    "        return self.classes[np.argmax(posterior_prob, axis=1)]\n",
    "        \n",
    "        #<-- write your code here-->\n",
    "    def gaussian_pdf(self, X, mean, sigma_squared):\n",
    "        coeff = 1 / np.sqrt(2 * np.pi * sigma_squared)\n",
    "        exponent = np.exp(-0.5 * ((X - mean) ** 2) / sigma_squared)\n",
    "        return coeff * exponent\n",
    "\n"
   ]
  },
  {
   "cell_type": "markdown",
   "metadata": {},
   "source": [
    "### Task 1.4 Build a Gaussian Naïve Bayes classifier with scikit learn library\n",
    "https://scikit-learn.org/stable/modules/generated/sklearn.naive_bayes.GaussianNB.html"
   ]
  },
  {
   "cell_type": "code",
   "execution_count": 10,
   "metadata": {},
   "outputs": [
    {
     "name": "stdout",
     "output_type": "stream",
     "text": [
      "Accuracy of Gaussian Naive Bayes classifier on test set: 100.00\n"
     ]
    }
   ],
   "source": [
    "# Build a Guassian Naive Bayes model with sklearn\n",
    "\n",
    "#<-- write your code here-->\n",
    "from sklearn.naive_bayes import GaussianNB\n",
    "from sklearn.metrics import accuracy_score\n",
    "\n",
    "# Create a Gaussian Naive Bayes classifier object\n",
    "gnb = GaussianNB()\n",
    "\n",
    "gnb.fit(X_train, y_train)\n",
    "\n",
    "# Predict the responses for the test dataset\n",
    "y_pred = gnb.predict(X_test)\n",
    "\n",
    "\n",
    "accuracy = accuracy_score(y_test, y_pred)\n",
    "print(\"Accuracy of Gaussian Naive Bayes classifier on test set: {:.2f}\".format(accuracy*100))"
   ]
  },
  {
   "cell_type": "markdown",
   "metadata": {},
   "source": [
    "### Task 1.4 Training, Testing and Comparison\n",
    "1. Fit the both Gaussian Naïve Bayes classifiers with the training data and use the testing data to make prediction.\n",
    "2. Show the results with accuracy for both classifiers (manually implementation and the sklearn's)."
   ]
  },
  {
   "cell_type": "code",
   "execution_count": 11,
   "metadata": {},
   "outputs": [],
   "source": [
    "# Train the models\n",
    "\n",
    "#<-- write your code here-->\n",
    "custom_gnb = GaussianNaiveBayes()\n",
    "\n",
    "# Fit the custom model with the training data\n",
    "custom_gnb.fit(X_train, y_train)\n",
    "\n",
    "# Make predictions with the custom model\n",
    "custom_y_pred = custom_gnb.predict(X_test)\n",
    "\n",
    "\n",
    "\n",
    "\n",
    "# Make predictions\n",
    "\n",
    "#<-- write your code here-->\n",
    "from sklearn.naive_bayes import GaussianNB\n",
    "sklearn_gnb = GaussianNB()\n",
    "\n",
    "# Fit the sklearn model with the training data\n",
    "sklearn_gnb.fit(X_train, y_train)\n",
    "\n",
    "# Make predictions with the sklearn model\n",
    "sklearn_y_pred = sklearn_gnb.predict(X_test)"
   ]
  },
  {
   "cell_type": "code",
   "execution_count": 12,
   "metadata": {},
   "outputs": [
    {
     "name": "stdout",
     "output_type": "stream",
     "text": [
      "Accuracy of custom Gaussian Naive Bayes classifier: 100.00\n",
      "Accuracy of sklearn Gaussian Naive Bayes classifier: 100.00\n"
     ]
    }
   ],
   "source": [
    "# Compute the classification accuracy for both models\n",
    "\n",
    "#<-- write your code here-->\n",
    "# Evaluate the custom model's accuracy\n",
    "custom_accuracy = accuracy_score(y_test, custom_y_pred)\n",
    "print(\"Accuracy of custom Gaussian Naive Bayes classifier: {:.2f}\".format(custom_accuracy*100))\n",
    "\n",
    "\n",
    "# Evaluate the sklearn model's accuracy\n",
    "sklearn_accuracy = accuracy_score(y_test, sklearn_y_pred)\n",
    "print(\"Accuracy of sklearn Gaussian Naive Bayes classifier: {:.2f}\".format(sklearn_accuracy*100))"
   ]
  },
  {
   "cell_type": "markdown",
   "metadata": {},
   "source": [
    "## TASK 2: Exploring Data Bias with a COMPAS-Style Risk Assessment System\n",
    "In this task, we want to observe ethical considerations and potential biases in machine learning models, using a COMPAS-style risk assessment system as a case study.\n",
    "\n",
    "A COMPAS-style risk assessment refers to systems like the Correctional Offender Management Profiling for Alternative Sanctions (COMPAS), which is a tool used in the criminal justice system to assess the likelihood of a defendant becoming a recidivist, or reoffending, if released. \n",
    "\n",
    "A COMPAS recidivism racial bias dataset will be used, and the details can be viewed [here](https://github.com/propublica/compas-analysis)."
   ]
  },
  {
   "cell_type": "code",
   "execution_count": 13,
   "metadata": {},
   "outputs": [
    {
     "name": "stderr",
     "output_type": "stream",
     "text": [
      "'wget' is not recognized as an internal or external command,\n",
      "operable program or batch file.\n"
     ]
    }
   ],
   "source": [
    "# download the COMPAS dataset\n",
    "#import wget\n",
    "\n",
    "#url = 'https://raw.githubusercontent.com/propublica/compas-analysis/master/compas-scores-two-years.csv'\n",
    "#filename = wget.download(url)\n",
    "!wget https://raw.githubusercontent.com/propublica/compas-analysis/master/compas-scores-two-years.csv"
   ]
  },
  {
   "cell_type": "code",
   "execution_count": 14,
   "metadata": {},
   "outputs": [
    {
     "data": {
      "text/html": [
       "<div>\n",
       "<style scoped>\n",
       "    .dataframe tbody tr th:only-of-type {\n",
       "        vertical-align: middle;\n",
       "    }\n",
       "\n",
       "    .dataframe tbody tr th {\n",
       "        vertical-align: top;\n",
       "    }\n",
       "\n",
       "    .dataframe thead th {\n",
       "        text-align: right;\n",
       "    }\n",
       "</style>\n",
       "<table border=\"1\" class=\"dataframe\">\n",
       "  <thead>\n",
       "    <tr style=\"text-align: right;\">\n",
       "      <th></th>\n",
       "      <th>id</th>\n",
       "      <th>name</th>\n",
       "      <th>first</th>\n",
       "      <th>last</th>\n",
       "      <th>compas_screening_date</th>\n",
       "      <th>sex</th>\n",
       "      <th>dob</th>\n",
       "      <th>age</th>\n",
       "      <th>age_cat</th>\n",
       "      <th>race</th>\n",
       "      <th>...</th>\n",
       "      <th>v_decile_score</th>\n",
       "      <th>v_score_text</th>\n",
       "      <th>v_screening_date</th>\n",
       "      <th>in_custody</th>\n",
       "      <th>out_custody</th>\n",
       "      <th>priors_count.1</th>\n",
       "      <th>start</th>\n",
       "      <th>end</th>\n",
       "      <th>event</th>\n",
       "      <th>two_year_recid</th>\n",
       "    </tr>\n",
       "  </thead>\n",
       "  <tbody>\n",
       "    <tr>\n",
       "      <th>0</th>\n",
       "      <td>1</td>\n",
       "      <td>miguel hernandez</td>\n",
       "      <td>miguel</td>\n",
       "      <td>hernandez</td>\n",
       "      <td>2013-08-14</td>\n",
       "      <td>Male</td>\n",
       "      <td>1947-04-18</td>\n",
       "      <td>69</td>\n",
       "      <td>Greater than 45</td>\n",
       "      <td>Other</td>\n",
       "      <td>...</td>\n",
       "      <td>1</td>\n",
       "      <td>Low</td>\n",
       "      <td>2013-08-14</td>\n",
       "      <td>2014-07-07</td>\n",
       "      <td>2014-07-14</td>\n",
       "      <td>0</td>\n",
       "      <td>0</td>\n",
       "      <td>327</td>\n",
       "      <td>0</td>\n",
       "      <td>0</td>\n",
       "    </tr>\n",
       "    <tr>\n",
       "      <th>1</th>\n",
       "      <td>3</td>\n",
       "      <td>kevon dixon</td>\n",
       "      <td>kevon</td>\n",
       "      <td>dixon</td>\n",
       "      <td>2013-01-27</td>\n",
       "      <td>Male</td>\n",
       "      <td>1982-01-22</td>\n",
       "      <td>34</td>\n",
       "      <td>25 - 45</td>\n",
       "      <td>African-American</td>\n",
       "      <td>...</td>\n",
       "      <td>1</td>\n",
       "      <td>Low</td>\n",
       "      <td>2013-01-27</td>\n",
       "      <td>2013-01-26</td>\n",
       "      <td>2013-02-05</td>\n",
       "      <td>0</td>\n",
       "      <td>9</td>\n",
       "      <td>159</td>\n",
       "      <td>1</td>\n",
       "      <td>1</td>\n",
       "    </tr>\n",
       "    <tr>\n",
       "      <th>2</th>\n",
       "      <td>4</td>\n",
       "      <td>ed philo</td>\n",
       "      <td>ed</td>\n",
       "      <td>philo</td>\n",
       "      <td>2013-04-14</td>\n",
       "      <td>Male</td>\n",
       "      <td>1991-05-14</td>\n",
       "      <td>24</td>\n",
       "      <td>Less than 25</td>\n",
       "      <td>African-American</td>\n",
       "      <td>...</td>\n",
       "      <td>3</td>\n",
       "      <td>Low</td>\n",
       "      <td>2013-04-14</td>\n",
       "      <td>2013-06-16</td>\n",
       "      <td>2013-06-16</td>\n",
       "      <td>4</td>\n",
       "      <td>0</td>\n",
       "      <td>63</td>\n",
       "      <td>0</td>\n",
       "      <td>1</td>\n",
       "    </tr>\n",
       "    <tr>\n",
       "      <th>3</th>\n",
       "      <td>5</td>\n",
       "      <td>marcu brown</td>\n",
       "      <td>marcu</td>\n",
       "      <td>brown</td>\n",
       "      <td>2013-01-13</td>\n",
       "      <td>Male</td>\n",
       "      <td>1993-01-21</td>\n",
       "      <td>23</td>\n",
       "      <td>Less than 25</td>\n",
       "      <td>African-American</td>\n",
       "      <td>...</td>\n",
       "      <td>6</td>\n",
       "      <td>Medium</td>\n",
       "      <td>2013-01-13</td>\n",
       "      <td>NaN</td>\n",
       "      <td>NaN</td>\n",
       "      <td>1</td>\n",
       "      <td>0</td>\n",
       "      <td>1174</td>\n",
       "      <td>0</td>\n",
       "      <td>0</td>\n",
       "    </tr>\n",
       "    <tr>\n",
       "      <th>4</th>\n",
       "      <td>6</td>\n",
       "      <td>bouthy pierrelouis</td>\n",
       "      <td>bouthy</td>\n",
       "      <td>pierrelouis</td>\n",
       "      <td>2013-03-26</td>\n",
       "      <td>Male</td>\n",
       "      <td>1973-01-22</td>\n",
       "      <td>43</td>\n",
       "      <td>25 - 45</td>\n",
       "      <td>Other</td>\n",
       "      <td>...</td>\n",
       "      <td>1</td>\n",
       "      <td>Low</td>\n",
       "      <td>2013-03-26</td>\n",
       "      <td>NaN</td>\n",
       "      <td>NaN</td>\n",
       "      <td>2</td>\n",
       "      <td>0</td>\n",
       "      <td>1102</td>\n",
       "      <td>0</td>\n",
       "      <td>0</td>\n",
       "    </tr>\n",
       "  </tbody>\n",
       "</table>\n",
       "<p>5 rows × 53 columns</p>\n",
       "</div>"
      ],
      "text/plain": [
       "   id                name   first         last compas_screening_date   sex  \\\n",
       "0   1    miguel hernandez  miguel    hernandez            2013-08-14  Male   \n",
       "1   3         kevon dixon   kevon        dixon            2013-01-27  Male   \n",
       "2   4            ed philo      ed        philo            2013-04-14  Male   \n",
       "3   5         marcu brown   marcu        brown            2013-01-13  Male   \n",
       "4   6  bouthy pierrelouis  bouthy  pierrelouis            2013-03-26  Male   \n",
       "\n",
       "          dob  age          age_cat              race  ...  v_decile_score  \\\n",
       "0  1947-04-18   69  Greater than 45             Other  ...               1   \n",
       "1  1982-01-22   34          25 - 45  African-American  ...               1   \n",
       "2  1991-05-14   24     Less than 25  African-American  ...               3   \n",
       "3  1993-01-21   23     Less than 25  African-American  ...               6   \n",
       "4  1973-01-22   43          25 - 45             Other  ...               1   \n",
       "\n",
       "   v_score_text  v_screening_date  in_custody  out_custody  priors_count.1  \\\n",
       "0           Low        2013-08-14  2014-07-07   2014-07-14               0   \n",
       "1           Low        2013-01-27  2013-01-26   2013-02-05               0   \n",
       "2           Low        2013-04-14  2013-06-16   2013-06-16               4   \n",
       "3        Medium        2013-01-13         NaN          NaN               1   \n",
       "4           Low        2013-03-26         NaN          NaN               2   \n",
       "\n",
       "  start   end event two_year_recid  \n",
       "0     0   327     0              0  \n",
       "1     9   159     1              1  \n",
       "2     0    63     0              1  \n",
       "3     0  1174     0              0  \n",
       "4     0  1102     0              0  \n",
       "\n",
       "[5 rows x 53 columns]"
      ]
     },
     "execution_count": 14,
     "metadata": {},
     "output_type": "execute_result"
    }
   ],
   "source": [
    "# view the first few rows of the dataset\n",
    "import pandas as pd\n",
    "#df_compas = pd.read_csv(filename)\n",
    "df_compas = pd.read_csv('compas-scores-two-years.csv')\n",
    "df_compas.head()"
   ]
  },
  {
   "cell_type": "code",
   "execution_count": 15,
   "metadata": {},
   "outputs": [
    {
     "data": {
      "text/plain": [
       "Index(['id', 'name', 'first', 'last', 'compas_screening_date', 'sex', 'dob',\n",
       "       'age', 'age_cat', 'race', 'juv_fel_count', 'decile_score',\n",
       "       'juv_misd_count', 'juv_other_count', 'priors_count',\n",
       "       'days_b_screening_arrest', 'c_jail_in', 'c_jail_out', 'c_case_number',\n",
       "       'c_offense_date', 'c_arrest_date', 'c_days_from_compas',\n",
       "       'c_charge_degree', 'c_charge_desc', 'is_recid', 'r_case_number',\n",
       "       'r_charge_degree', 'r_days_from_arrest', 'r_offense_date',\n",
       "       'r_charge_desc', 'r_jail_in', 'r_jail_out', 'violent_recid',\n",
       "       'is_violent_recid', 'vr_case_number', 'vr_charge_degree',\n",
       "       'vr_offense_date', 'vr_charge_desc', 'type_of_assessment',\n",
       "       'decile_score.1', 'score_text', 'screening_date',\n",
       "       'v_type_of_assessment', 'v_decile_score', 'v_score_text',\n",
       "       'v_screening_date', 'in_custody', 'out_custody', 'priors_count.1',\n",
       "       'start', 'end', 'event', 'two_year_recid'],\n",
       "      dtype='object')"
      ]
     },
     "execution_count": 15,
     "metadata": {},
     "output_type": "execute_result"
    }
   ],
   "source": [
    "df_compas.keys()"
   ]
  },
  {
   "cell_type": "code",
   "execution_count": 16,
   "metadata": {},
   "outputs": [],
   "source": [
    "# Example of selecting relevant features and encoding categorical variables\n",
    "features = ['race', 'age', 'c_charge_degree'] # you may choose your own features\n",
    "target = 'two_year_recid'\n",
    "\n",
    "# Selecting a subset of the data for simplicity\n",
    "df_compas = df_compas[features + [target]]\n",
    "\n",
    "# Encoding categorical features\n",
    "df_compas = pd.get_dummies(df_compas, columns=['race', 'age', 'c_charge_degree'], drop_first=False)\n",
    "df_compas = df_compas.dropna()"
   ]
  },
  {
   "cell_type": "markdown",
   "metadata": {},
   "source": [
    "### Task 2.1: Splite dataset\n",
    "1. Split the dataset into training and testing dataset with a distribution of 80:20.\n",
    "2. Print out the shape of each split subset."
   ]
  },
  {
   "cell_type": "code",
   "execution_count": 17,
   "metadata": {},
   "outputs": [],
   "source": [
    "from sklearn.model_selection import train_test_split\n",
    "\n",
    "X = df_compas.drop('two_year_recid', axis=1)\n",
    "y = df_compas['two_year_recid']\n",
    "\n",
    "# Split the data into training and test sets\n",
    "\n",
    "#<-- write your code here-->\n",
    "X_train, X_test, y_train, y_test = train_test_split(X, y, test_size=0.20, random_state=42)\n",
    "\n"
   ]
  },
  {
   "cell_type": "code",
   "execution_count": 18,
   "metadata": {},
   "outputs": [
    {
     "name": "stdout",
     "output_type": "stream",
     "text": [
      "Shape of X_train: (5771, 73)\n",
      "Shape of X_test: (1443, 73)\n",
      "Shape of y_train: (5771,)\n",
      "Shape of y_test: (1443,)\n"
     ]
    }
   ],
   "source": [
    "# Print the shapes of your training and test sets\n",
    "\n",
    "#<-- write your code here-->\n",
    "print(\"Shape of X_train:\", X_train.shape)\n",
    "print(\"Shape of X_test:\", X_test.shape)\n",
    "print(\"Shape of y_train:\", y_train.shape)\n",
    "print(\"Shape of y_test:\", y_test.shape)\n"
   ]
  },
  {
   "cell_type": "markdown",
   "metadata": {},
   "source": [
    "### Task 2.2: Build a Gaussian Naïve Bayes classifier and train the model with training set"
   ]
  },
  {
   "cell_type": "code",
   "execution_count": 19,
   "metadata": {},
   "outputs": [
    {
     "data": {
      "text/html": [
       "<style>#sk-container-id-1 {color: black;}#sk-container-id-1 pre{padding: 0;}#sk-container-id-1 div.sk-toggleable {background-color: white;}#sk-container-id-1 label.sk-toggleable__label {cursor: pointer;display: block;width: 100%;margin-bottom: 0;padding: 0.3em;box-sizing: border-box;text-align: center;}#sk-container-id-1 label.sk-toggleable__label-arrow:before {content: \"▸\";float: left;margin-right: 0.25em;color: #696969;}#sk-container-id-1 label.sk-toggleable__label-arrow:hover:before {color: black;}#sk-container-id-1 div.sk-estimator:hover label.sk-toggleable__label-arrow:before {color: black;}#sk-container-id-1 div.sk-toggleable__content {max-height: 0;max-width: 0;overflow: hidden;text-align: left;background-color: #f0f8ff;}#sk-container-id-1 div.sk-toggleable__content pre {margin: 0.2em;color: black;border-radius: 0.25em;background-color: #f0f8ff;}#sk-container-id-1 input.sk-toggleable__control:checked~div.sk-toggleable__content {max-height: 200px;max-width: 100%;overflow: auto;}#sk-container-id-1 input.sk-toggleable__control:checked~label.sk-toggleable__label-arrow:before {content: \"▾\";}#sk-container-id-1 div.sk-estimator input.sk-toggleable__control:checked~label.sk-toggleable__label {background-color: #d4ebff;}#sk-container-id-1 div.sk-label input.sk-toggleable__control:checked~label.sk-toggleable__label {background-color: #d4ebff;}#sk-container-id-1 input.sk-hidden--visually {border: 0;clip: rect(1px 1px 1px 1px);clip: rect(1px, 1px, 1px, 1px);height: 1px;margin: -1px;overflow: hidden;padding: 0;position: absolute;width: 1px;}#sk-container-id-1 div.sk-estimator {font-family: monospace;background-color: #f0f8ff;border: 1px dotted black;border-radius: 0.25em;box-sizing: border-box;margin-bottom: 0.5em;}#sk-container-id-1 div.sk-estimator:hover {background-color: #d4ebff;}#sk-container-id-1 div.sk-parallel-item::after {content: \"\";width: 100%;border-bottom: 1px solid gray;flex-grow: 1;}#sk-container-id-1 div.sk-label:hover label.sk-toggleable__label {background-color: #d4ebff;}#sk-container-id-1 div.sk-serial::before {content: \"\";position: absolute;border-left: 1px solid gray;box-sizing: border-box;top: 0;bottom: 0;left: 50%;z-index: 0;}#sk-container-id-1 div.sk-serial {display: flex;flex-direction: column;align-items: center;background-color: white;padding-right: 0.2em;padding-left: 0.2em;position: relative;}#sk-container-id-1 div.sk-item {position: relative;z-index: 1;}#sk-container-id-1 div.sk-parallel {display: flex;align-items: stretch;justify-content: center;background-color: white;position: relative;}#sk-container-id-1 div.sk-item::before, #sk-container-id-1 div.sk-parallel-item::before {content: \"\";position: absolute;border-left: 1px solid gray;box-sizing: border-box;top: 0;bottom: 0;left: 50%;z-index: -1;}#sk-container-id-1 div.sk-parallel-item {display: flex;flex-direction: column;z-index: 1;position: relative;background-color: white;}#sk-container-id-1 div.sk-parallel-item:first-child::after {align-self: flex-end;width: 50%;}#sk-container-id-1 div.sk-parallel-item:last-child::after {align-self: flex-start;width: 50%;}#sk-container-id-1 div.sk-parallel-item:only-child::after {width: 0;}#sk-container-id-1 div.sk-dashed-wrapped {border: 1px dashed gray;margin: 0 0.4em 0.5em 0.4em;box-sizing: border-box;padding-bottom: 0.4em;background-color: white;}#sk-container-id-1 div.sk-label label {font-family: monospace;font-weight: bold;display: inline-block;line-height: 1.2em;}#sk-container-id-1 div.sk-label-container {text-align: center;}#sk-container-id-1 div.sk-container {/* jupyter's `normalize.less` sets `[hidden] { display: none; }` but bootstrap.min.css set `[hidden] { display: none !important; }` so we also need the `!important` here to be able to override the default hidden behavior on the sphinx rendered scikit-learn.org. See: https://github.com/scikit-learn/scikit-learn/issues/21755 */display: inline-block !important;position: relative;}#sk-container-id-1 div.sk-text-repr-fallback {display: none;}</style><div id=\"sk-container-id-1\" class=\"sk-top-container\"><div class=\"sk-text-repr-fallback\"><pre>GaussianNB()</pre><b>In a Jupyter environment, please rerun this cell to show the HTML representation or trust the notebook. <br />On GitHub, the HTML representation is unable to render, please try loading this page with nbviewer.org.</b></div><div class=\"sk-container\" hidden><div class=\"sk-item\"><div class=\"sk-estimator sk-toggleable\"><input class=\"sk-toggleable__control sk-hidden--visually\" id=\"sk-estimator-id-1\" type=\"checkbox\" checked><label for=\"sk-estimator-id-1\" class=\"sk-toggleable__label sk-toggleable__label-arrow\">GaussianNB</label><div class=\"sk-toggleable__content\"><pre>GaussianNB()</pre></div></div></div></div></div>"
      ],
      "text/plain": [
       "GaussianNB()"
      ]
     },
     "execution_count": 19,
     "metadata": {},
     "output_type": "execute_result"
    }
   ],
   "source": [
    "# Build a Guassian Naive Bayes model\n",
    "from sklearn.naive_bayes import GaussianNB\n",
    "#<-- write your code here-->\n",
    "gnb = GaussianNB()\n",
    "gnb.fit(X_train, y_train)"
   ]
  },
  {
   "cell_type": "markdown",
   "metadata": {},
   "source": [
    "### Task 2.3: Test the model and show the results of accuracy"
   ]
  },
  {
   "cell_type": "code",
   "execution_count": 20,
   "metadata": {},
   "outputs": [
    {
     "name": "stdout",
     "output_type": "stream",
     "text": [
      "Accuracy of the Gaussian Naive Bayes classifier on test set: 45.25%\n"
     ]
    }
   ],
   "source": [
    "# Make predictions and compute the classification accuracy\n",
    "\n",
    "#<-- write your code here-->\n",
    "from sklearn.metrics import accuracy_score\n",
    "\n",
    "# Make predictions on the test data\n",
    "y_pred = gnb.predict(X_test)\n",
    "\n",
    "# Compute the accuracy of the model\n",
    "accuracy = accuracy_score(y_test, y_pred)\n",
    "print(\"Accuracy of the Gaussian Naive Bayes classifier on test set: {:.2f}%\".format(accuracy * 100))"
   ]
  },
  {
   "cell_type": "markdown",
   "metadata": {},
   "source": [
    "### Task 2.4: Print out the false positive rate, false negative rate for each race group.\n",
    "\n",
    "False positive means a person was predicted to re-offend but did not; \n",
    "\n",
    "False negative means a person was predicted not to re-offend but did re-offend\n"
   ]
  },
  {
   "cell_type": "markdown",
   "metadata": {},
   "source": [
    "#### Task 2.4.1: Create a function to calculate the false positive rate (FPR) and false negative rate (FNR).\n"
   ]
  },
  {
   "cell_type": "code",
   "execution_count": 21,
   "metadata": {},
   "outputs": [],
   "source": [
    "# a function to calculate the false positive rate and false negative rate\n",
    "\n",
    "# <-- write your code here-->\n",
    "from sklearn.metrics import confusion_matrix\n",
    "\n",
    "def calculate_fpr_fnr(y_true, y_pred):\n",
    "\n",
    "    # Generate the confusion matrix\n",
    "    tn, fp, fn, tp = confusion_matrix(y_true, y_pred).ravel()\n",
    "    \n",
    "    fpr = fp / (fp + tn)\n",
    "    \n",
    "    fnr = fn / (fn + tp)\n",
    "    \n",
    "    return fpr, fnr\n"
   ]
  },
  {
   "cell_type": "markdown",
   "metadata": {},
   "source": [
    "#### Task 2.4.2: Calculate the FPR and FNR for each race.\n",
    "You can find out the races from the records in the dataframe."
   ]
  },
  {
   "cell_type": "code",
   "execution_count": 22,
   "metadata": {},
   "outputs": [
    {
     "name": "stdout",
     "output_type": "stream",
     "text": [
      "Index(['two_year_recid', 'race_African-American', 'race_Asian',\n",
      "       'race_Caucasian', 'race_Hispanic', 'race_Native American', 'race_Other',\n",
      "       'age_18', 'age_19', 'age_20', 'age_21', 'age_22', 'age_23', 'age_24',\n",
      "       'age_25', 'age_26', 'age_27', 'age_28', 'age_29', 'age_30', 'age_31',\n",
      "       'age_32', 'age_33', 'age_34', 'age_35', 'age_36', 'age_37', 'age_38',\n",
      "       'age_39', 'age_40', 'age_41', 'age_42', 'age_43', 'age_44', 'age_45',\n",
      "       'age_46', 'age_47', 'age_48', 'age_49', 'age_50', 'age_51', 'age_52',\n",
      "       'age_53', 'age_54', 'age_55', 'age_56', 'age_57', 'age_58', 'age_59',\n",
      "       'age_60', 'age_61', 'age_62', 'age_63', 'age_64', 'age_65', 'age_66',\n",
      "       'age_67', 'age_68', 'age_69', 'age_70', 'age_71', 'age_72', 'age_73',\n",
      "       'age_74', 'age_75', 'age_76', 'age_77', 'age_78', 'age_79', 'age_80',\n",
      "       'age_83', 'age_96', 'c_charge_degree_F', 'c_charge_degree_M'],\n",
      "      dtype='object')\n",
      "race_African-American - FPR: 0.95, FNR: 0.03\n",
      "race_Asian - FPR: 0.00, FNR: 1.00\n",
      "race_Caucasian - FPR: 0.93, FNR: 0.04\n",
      "race_Hispanic - FPR: 0.92, FNR: 0.03\n",
      "race_Native American - FPR: 1.00, FNR: 0.00\n",
      "race_Other - FPR: 0.93, FNR: 0.00\n"
     ]
    }
   ],
   "source": [
    "# See the FPR and FNR for each race\n",
    "\n",
    "# <-- write your code here-->\n",
    "# List all column names to identify the race columns\n",
    "print(df_compas.columns)\n",
    "\n",
    "# Assuming the one-hot encoded race columns are prefixed with 'race_'\n",
    "race_columns = [col for col in df_compas.columns if col.startswith('race_')]\n",
    "\n",
    "race_fpr_fnr = {}\n",
    "\n",
    "\n",
    "for race in race_columns:\n",
    "    # Filter the data for each race\n",
    "    mask = X_test[race] == 1\n",
    "    X_race = X_test[mask]\n",
    "    y_race_true = y_test[mask]\n",
    "    y_race_pred = y_pred[mask]\n",
    "\n",
    "    fpr, fnr = calculate_fpr_fnr(y_race_true, y_race_pred)\n",
    "    race_fpr_fnr[race] = (fpr, fnr)\n",
    "\n",
    "\n",
    "for race, rates in race_fpr_fnr.items():\n",
    "    print(f\"{race} - FPR: {rates[0]:.2f}, FNR: {rates[1]:.2f}\")\n",
    "\n"
   ]
  },
  {
   "cell_type": "markdown",
   "metadata": {},
   "source": [
    "### Task 2.5: Plot the FPR and FNR in figure(s) to analyze the bias.\n",
    "Please note down your observation in the last text cell. "
   ]
  },
  {
   "cell_type": "code",
   "execution_count": 23,
   "metadata": {
    "scrolled": true
   },
   "outputs": [
    {
     "data": {
      "image/png": "[encoded data removed]",
      "text/plain": [
       "<Figure size 1000x600 with 1 Axes>"
      ]
     },
     "metadata": {},
     "output_type": "display_data"
    }
   ],
   "source": [
    "# Draw the plot to compare the FPR and FNR for each\n",
    "\n",
    "#<-- write your code here-->\n",
    "import matplotlib.pyplot as plt\n",
    "\n",
    "# Assuming race_fpr_fnr stores tuples in the format (fpr, fnr)\n",
    "fprs = [rates[0] for rates in race_fpr_fnr.values()]  \n",
    "fnrs = [rates[1] for rates in race_fpr_fnr.values()]  \n",
    "\n",
    "\n",
    "races = [race.split('_')[1] if '_' in race else race for race in race_columns] \n",
    "\n",
    "# Set up the matplotlib figure\n",
    "plt.figure(figsize=(10, 6))\n",
    "\n",
    "# Plotting FPR\n",
    "plt.bar([x for x in range(len(races))], fprs, color='blue', width=0.4, label='FPR')\n",
    "\n",
    "# Plotting FNR\n",
    "plt.bar([x + 0.4 for x in range(len(races))], fnrs, color='red', width=0.4, label='FNR')\n",
    "\n",
    "plt.xlabel('Race')\n",
    "plt.ylabel('Rate')\n",
    "plt.title('Comparison of FPR and FNR by Race')\n",
    "plt.xticks([x + 0.2 for x in range(len(races))], races, rotation=45)\n",
    "plt.legend()\n",
    "\n",
    "plt.tight_layout()\n",
    "plt.show()\n",
    "\n"
   ]
  },
  {
   "cell_type": "markdown",
   "metadata": {},
   "source": [
    "Write down your observation here:FPR is represented by the blue bars. FPR is generally high across all race categories except for the Asian category, where it is significantly lower.\n",
    "FNR is represented by the red bars. The FNR is notably lower than the FPR for all races. For the Asian category,the FNR is high compared to FPR.\n",
    "Below is the comparision:\n",
    "African-American group has a high FPR, which indicates that this model is more likely to falsely predict recidivism for African-American individuals.\n",
    "Caucasian group also shows a significant FPR but less than that of the African-American group.\n",
    "Other category has a similar FPR to the majority of groups, except that of Asian.\n",
    "The Asian group has a significantly lower FPR, which states model is least likely to falsely predict recidivism for Asian individuals.\n",
    "There seems to be a disparity in the FPR among different races, which raises concerns about potential bias in the model against certain groups of races, mainly African Americans.\n",
    "The extremely low FNR across all the groups shows the model is conservative in predicting non-recidivism. However the disproportionally higher FPR in certain groups indicates a bias towards predicting recidivism more frequently for those groups in particular."
   ]
  },
  {
   "cell_type": "markdown",
   "metadata": {},
   "source": []
  }
 ],
 "metadata": {
  "kernelspec": {
   "display_name": "Python 3 (ipykernel)",
   "language": "python",
   "name": "python3"
  },
  "language_info": {
   "codemirror_mode": {
    "name": "ipython",
    "version": 3
   },
   "file_extension": ".py",
   "mimetype": "text/x-python",
   "name": "python",
   "nbconvert_exporter": "python",
   "pygments_lexer": "ipython3",
   "version": "3.11.4"
  }
 },
 "nbformat": 4,
 "nbformat_minor": 2
}
